{
  "nbformat": 4,
  "nbformat_minor": 0,
  "metadata": {
    "colab": {
      "name": "Untitled1.ipynb",
      "provenance": [],
      "authorship_tag": "ABX9TyNuh+AJEpwBCIOcxBQvlAe5",
      "include_colab_link": true
    },
    "kernelspec": {
      "name": "python3",
      "display_name": "Python 3"
    },
    "language_info": {
      "name": "python"
    }
  },
  "cells": [
    {
      "cell_type": "markdown",
      "metadata": {
        "id": "view-in-github",
        "colab_type": "text"
      },
      "source": [
        "<a href=\"https://colab.research.google.com/github/prateeksahu147/Tensorflow/blob/main/TensorflowBasics.ipynb\" target=\"_parent\"><img src=\"https://colab.research.google.com/assets/colab-badge.svg\" alt=\"Open In Colab\"/></a>"
      ]
    },
    {
      "cell_type": "code",
      "metadata": {
        "id": "C3WjHNXO_yay"
      },
      "source": [
        "import tensorflow as tf\n",
        "from tensorflow import keras\n",
        "from tensorflow.keras import layers\n",
        "from tensorflow.keras.datasets import mnist"
      ],
      "execution_count": 1,
      "outputs": []
    },
    {
      "cell_type": "code",
      "metadata": {
        "id": "vk29yFzOAxAV",
        "colab": {
          "base_uri": "https://localhost:8080/"
        },
        "outputId": "9d591018-2c42-4410-c50f-a260b0481f8c"
      },
      "source": [
        "(x_train, y_train), (x_test, y_test) = mnist.load_data()"
      ],
      "execution_count": 2,
      "outputs": [
        {
          "output_type": "stream",
          "text": [
            "Downloading data from https://storage.googleapis.com/tensorflow/tf-keras-datasets/mnist.npz\n",
            "11493376/11490434 [==============================] - 0s 0us/step\n"
          ],
          "name": "stdout"
        }
      ]
    },
    {
      "cell_type": "code",
      "metadata": {
        "id": "EZODn4qcBUo7"
      },
      "source": [
        "x_train= x_train.reshape(-1, 28*28).astype('float32')/225.0\n",
        "x_test= x_test.reshape(-1, 28*28).astype('float32')/225.0"
      ],
      "execution_count": 3,
      "outputs": []
    },
    {
      "cell_type": "code",
      "metadata": {
        "id": "2WAniC1IBYkB"
      },
      "source": [
        "# sequential API\n",
        "\n",
        "model = keras.Sequential()\n",
        "model.add(keras.Input(shape=(784)))\n",
        "model.add(layers.Dense(512, activation=\"relu\"))\n",
        "model.add(layers.Dense(250, activation='relu', name= 'secound'))\n",
        "model.add(layers.Dense(10, activation='softmax', name = 'output'))\n",
        "\n"
      ],
      "execution_count": 4,
      "outputs": []
    },
    {
      "cell_type": "code",
      "metadata": {
        "id": "GdWXhyrFKCGm",
        "colab": {
          "base_uri": "https://localhost:8080/"
        },
        "outputId": "8d5adc43-c2ab-4d2e-c801-195478b9aa21"
      },
      "source": [
        "model.summary()"
      ],
      "execution_count": 5,
      "outputs": [
        {
          "output_type": "stream",
          "text": [
            "Model: \"sequential\"\n",
            "_________________________________________________________________\n",
            "Layer (type)                 Output Shape              Param #   \n",
            "=================================================================\n",
            "dense (Dense)                (None, 512)               401920    \n",
            "_________________________________________________________________\n",
            "secound (Dense)              (None, 250)               128250    \n",
            "_________________________________________________________________\n",
            "output (Dense)               (None, 10)                2510      \n",
            "=================================================================\n",
            "Total params: 532,680\n",
            "Trainable params: 532,680\n",
            "Non-trainable params: 0\n",
            "_________________________________________________________________\n"
          ],
          "name": "stdout"
        }
      ]
    },
    {
      "cell_type": "code",
      "metadata": {
        "id": "w5KndwuQUvYr"
      },
      "source": [
        "model.compile(\n",
        "    loss= keras.losses.SparseCategoricalCrossentropy(),\n",
        "    optimizer= keras.optimizers.Adam(0.001),\n",
        "    metrics= ['accuracy'],\n",
        ")"
      ],
      "execution_count": 7,
      "outputs": []
    },
    {
      "cell_type": "code",
      "metadata": {
        "id": "CuF34bwFXSaj",
        "outputId": "4e148864-65c5-4951-c0b6-b0849c4c9df0",
        "colab": {
          "base_uri": "https://localhost:8080/"
        }
      },
      "source": [
        "model.fit(x_train, y_train, batch_size=32, epochs =5, verbose=2 )\n",
        "model.evaluate(x_test, y= y_test, batch_size=32, verbose=2)"
      ],
      "execution_count": 8,
      "outputs": [
        {
          "output_type": "stream",
          "text": [
            "Epoch 1/5\n",
            "1875/1875 - 8s - loss: 0.1866 - accuracy: 0.9429\n",
            "Epoch 2/5\n",
            "1875/1875 - 8s - loss: 0.0784 - accuracy: 0.9754\n",
            "Epoch 3/5\n",
            "1875/1875 - 8s - loss: 0.0546 - accuracy: 0.9826\n",
            "Epoch 4/5\n",
            "1875/1875 - 7s - loss: 0.0412 - accuracy: 0.9872\n",
            "Epoch 5/5\n",
            "1875/1875 - 7s - loss: 0.0333 - accuracy: 0.9891\n",
            "313/313 - 1s - loss: 0.0761 - accuracy: 0.9778\n"
          ],
          "name": "stdout"
        },
        {
          "output_type": "execute_result",
          "data": {
            "text/plain": [
              "[0.07605081051588058, 0.9778000116348267]"
            ]
          },
          "metadata": {
            "tags": []
          },
          "execution_count": 8
        }
      ]
    },
    {
      "cell_type": "code",
      "metadata": {
        "id": "nXrGK-BEYhlM"
      },
      "source": [
        ""
      ],
      "execution_count": null,
      "outputs": []
    }
  ]
}